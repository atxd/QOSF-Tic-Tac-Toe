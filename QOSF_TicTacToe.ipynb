{
 "cells": [
  {
   "cell_type": "code",
   "execution_count": 1,
   "id": "1cebc3d4-5180-4bca-8c2b-42ec565f4174",
   "metadata": {},
   "outputs": [],
   "source": [
    "import numpy as np\n",
    "\n",
    "# Importing standard Qiskit libraries\n",
    "from qiskit import QuantumCircuit, transpile, Aer, IBMQ\n",
    "from qiskit.tools.jupyter import *\n",
    "from qiskit.visualization import *\n",
    "from ibm_quantum_widgets import *\n",
    "from qiskit.providers.aer import QasmSimulator\n",
    "from qiskit.circuit.library import C3XGate\n",
    "from qiskit import execute\n",
    "\n",
    "from math import pi"
   ]
  },
  {
   "cell_type": "markdown",
   "id": "abf4a1f5-d323-47df-a05a-c7274c040b36",
   "metadata": {},
   "source": [
    "The state this is now present in is $\\newline$\n",
    "1 0 0 $\\newline$1 ? ? $\\newline$0 ? ? $\\newline$\n",
    "Here, ? represents an unknown state/a cell that hasn't been filled yet.\n",
    "$\\newline$\n",
    "The corresponding numbering in the qubits is given below. $\\newline$\n",
    "7 6 8 $\\newline$5 3 2 $\\newline$4 1 0 $\\newline$"
   ]
  },
  {
   "cell_type": "markdown",
   "id": "509d96dd-f21f-4ecc-8631-03019744f5b4",
   "metadata": {},
   "source": [
    "Clearly, the possible winning cases for X in this exercise are the following."
   ]
  },
  {
   "cell_type": "markdown",
   "id": "4cf0391b-72b1-403c-a51f-1fc5da907339",
   "metadata": {},
   "source": [
    "X O O $\\newline$\n",
    "X X X $\\newline$\n",
    "O _ O $\\newline$ \n",
    "and $\\newline$\n",
    "X O O $\\newline$\n",
    "X X O $\\newline$\n",
    "O _ X $\\newline$"
   ]
  },
  {
   "cell_type": "markdown",
   "id": "d583795c-833a-4292-9406-dbbd8bfefa13",
   "metadata": {},
   "source": [
    "The underscore's value doesn't matter but let us take them as O to conveniently respresent the final output states. We thus get the output states for the above 2 solutions as |1100> and |1001> respectively"
   ]
  },
  {
   "cell_type": "code",
   "execution_count": 2,
   "id": "b1190c5d-ebc1-41b2-acf8-d18ec187ef25",
   "metadata": {},
   "outputs": [],
   "source": [
    "#The following functions are all part of the Grover's algorithm for amplitude amplification\n",
    "\n",
    "#This function adds a negative phase to the state 1100\n",
    "\n",
    "def add_phase_1100(qc): \n",
    "    qc.x([0, 1])\n",
    "    qc.h(3)\n",
    "    qc.append(C3XGate(), [0, 1, 2, 3])\n",
    "    qc.x([0, 1])\n",
    "    qc.h(3)\n",
    "    qc.barrier()\n",
    "\n",
    "#This function adds a negative phase to the state 1001\n",
    "def add_phase_1001(qc):\n",
    "    qc.x([1, 2])\n",
    "    qc.h(3)\n",
    "    qc.append(C3XGate(), [0, 1, 2, 3])\n",
    "    qc.x([1, 2])\n",
    "    qc.h(3)\n",
    "    qc.barrier()\n",
    "\n",
    "#This function is supposed to be the ( 2|s><s| - I ) operator in the Grover's alg. Since this operator essentially is a reflection operator,\n",
    "#and is the second reflection operator that is being performed, the function has been named this way.\n",
    "\n",
    "def second_reflection(qc):\n",
    "    qc.h([0, 1, 2, 3])\n",
    "    qc.x([0, 1, 2, 3])\n",
    "    qc.h(3)\n",
    "    qc.append(C3XGate(), [0, 1, 2, 3])\n",
    "    qc.h(3)\n",
    "    qc.x([0, 1, 2, 3])\n",
    "    qc.h([0, 1, 2, 3])\n",
    "    qc.barrier()"
   ]
  },
  {
   "cell_type": "code",
   "execution_count": 3,
   "id": "c40c16cc-92ed-4e92-8363-292e55f53688",
   "metadata": {},
   "outputs": [
    {
     "data": {
      "text/html": [
       "<pre style=\"word-wrap: normal;white-space: pre;background: #fff0;line-height: 1.1;font-family: &quot;Courier New&quot;,Courier,monospace\">     ┌───┐ ░ \n",
       "q_0: ┤ H ├─░─\n",
       "     ├───┤ ░ \n",
       "q_1: ┤ H ├─░─\n",
       "     ├───┤ ░ \n",
       "q_2: ┤ H ├─░─\n",
       "     ├───┤ ░ \n",
       "q_3: ┤ H ├─░─\n",
       "     └───┘ ░ \n",
       "q_4: ──────░─\n",
       "     ┌───┐ ░ \n",
       "q_5: ┤ X ├─░─\n",
       "     └───┘ ░ \n",
       "q_6: ──────░─\n",
       "     ┌───┐ ░ \n",
       "q_7: ┤ X ├─░─\n",
       "     └───┘ ░ \n",
       "q_8: ──────░─\n",
       "           ░ \n",
       "c: 9/════════\n",
       "             </pre>"
      ],
      "text/plain": [
       "     ┌───┐ ░ \n",
       "q_0: ┤ H ├─░─\n",
       "     ├───┤ ░ \n",
       "q_1: ┤ H ├─░─\n",
       "     ├───┤ ░ \n",
       "q_2: ┤ H ├─░─\n",
       "     ├───┤ ░ \n",
       "q_3: ┤ H ├─░─\n",
       "     └───┘ ░ \n",
       "q_4: ──────░─\n",
       "     ┌───┐ ░ \n",
       "q_5: ┤ X ├─░─\n",
       "     └───┘ ░ \n",
       "q_6: ──────░─\n",
       "     ┌───┐ ░ \n",
       "q_7: ┤ X ├─░─\n",
       "     └───┘ ░ \n",
       "q_8: ──────░─\n",
       "           ░ \n",
       "c: 9/════════\n",
       "             "
      ]
     },
     "execution_count": 3,
     "metadata": {},
     "output_type": "execute_result"
    }
   ],
   "source": [
    "qc = QuantumCircuit(9, 9)\n",
    "qc.x([7, 5])\n",
    "qc.h([3,2,1,0])\n",
    "qc.barrier()\n",
    "qc.draw()"
   ]
  },
  {
   "cell_type": "code",
   "execution_count": 4,
   "id": "42a37058-c09b-404d-8356-7276f5bf38e8",
   "metadata": {},
   "outputs": [],
   "source": [
    "#This is the amplitude amplification part\n",
    "add_phase_1100(qc)\n",
    "add_phase_1001(qc)\n",
    "second_reflection(qc)"
   ]
  },
  {
   "cell_type": "markdown",
   "id": "75a09cf1-690e-483f-a48b-034b8ad7eb1f",
   "metadata": {},
   "source": [
    "The same set of operations need to be performed one more time to increase the amplitude of the correct output states so as to increaes the corresponding probability. But how do we know that we need to do this 2 times (totally) and not some other number? $\\newline$\n",
    "It is 2 and not more because in this case, we're working with 4 qubits (16 different possibilities of wrt measurement) and 2 solutions. So we need to run 2 iterations to maximize the probability."
   ]
  },
  {
   "cell_type": "code",
   "execution_count": 5,
   "id": "07f5c4f3-37df-4232-8383-366b5d32847d",
   "metadata": {},
   "outputs": [
    {
     "data": {
      "text/html": [
       "<pre style=\"word-wrap: normal;white-space: pre;background: #fff0;line-height: 1.1;font-family: &quot;Courier New&quot;,Courier,monospace\">     ┌───┐ ░ ┌───┐     ┌───┐ ░                 ░ ┌───┐┌───┐          ┌───┐┌───┐»\n",
       "q_0: ┤ H ├─░─┤ X ├──■──┤ X ├─░────────■────────░─┤ H ├┤ X ├───────■──┤ X ├┤ H ├»\n",
       "     ├───┤ ░ ├───┤  │  ├───┤ ░ ┌───┐  │  ┌───┐ ░ ├───┤├───┤       │  ├───┤├───┤»\n",
       "q_1: ┤ H ├─░─┤ X ├──■──┤ X ├─░─┤ X ├──■──┤ X ├─░─┤ H ├┤ X ├───────■──┤ X ├┤ H ├»\n",
       "     ├───┤ ░ └───┘  │  └───┘ ░ ├───┤  │  ├───┤ ░ ├───┤├───┤       │  ├───┤├───┤»\n",
       "q_2: ┤ H ├─░────────■────────░─┤ X ├──■──┤ X ├─░─┤ H ├┤ X ├───────■──┤ X ├┤ H ├»\n",
       "     ├───┤ ░ ┌───┐┌─┴─┐┌───┐ ░ ├───┤┌─┴─┐├───┤ ░ ├───┤├───┤┌───┐┌─┴─┐├───┤├───┤»\n",
       "q_3: ┤ H ├─░─┤ H ├┤ X ├┤ H ├─░─┤ H ├┤ X ├┤ H ├─░─┤ H ├┤ X ├┤ H ├┤ X ├┤ H ├┤ X ├»\n",
       "     └───┘ ░ └───┘└───┘└───┘ ░ └───┘└───┘└───┘ ░ └───┘└───┘└───┘└───┘└───┘└───┘»\n",
       "q_4: ──────░─────────────────░─────────────────░───────────────────────────────»\n",
       "     ┌───┐ ░                 ░                 ░                               »\n",
       "q_5: ┤ X ├─░─────────────────░─────────────────░───────────────────────────────»\n",
       "     └───┘ ░                 ░                 ░                               »\n",
       "q_6: ──────░─────────────────░─────────────────░───────────────────────────────»\n",
       "     ┌───┐ ░                 ░                 ░                               »\n",
       "q_7: ┤ X ├─░─────────────────░─────────────────░───────────────────────────────»\n",
       "     └───┘ ░                 ░                 ░                               »\n",
       "q_8: ──────░─────────────────░─────────────────░───────────────────────────────»\n",
       "           ░                 ░                 ░                               »\n",
       "c: 9/══════════════════════════════════════════════════════════════════════════»\n",
       "                                                                               »\n",
       "«           ░ ┌───┐     ┌───┐ ░                 ░ ┌───┐┌───┐          ┌───┐»\n",
       "«q_0: ──────░─┤ X ├──■──┤ X ├─░────────■────────░─┤ H ├┤ X ├───────■──┤ X ├»\n",
       "«           ░ ├───┤  │  ├───┤ ░ ┌───┐  │  ┌───┐ ░ ├───┤├───┤       │  ├───┤»\n",
       "«q_1: ──────░─┤ X ├──■──┤ X ├─░─┤ X ├──■──┤ X ├─░─┤ H ├┤ X ├───────■──┤ X ├»\n",
       "«           ░ └───┘  │  └───┘ ░ ├───┤  │  ├───┤ ░ ├───┤├───┤       │  ├───┤»\n",
       "«q_2: ──────░────────■────────░─┤ X ├──■──┤ X ├─░─┤ H ├┤ X ├───────■──┤ X ├»\n",
       "«     ┌───┐ ░ ┌───┐┌─┴─┐┌───┐ ░ ├───┤┌─┴─┐├───┤ ░ ├───┤├───┤┌───┐┌─┴─┐├───┤»\n",
       "«q_3: ┤ H ├─░─┤ H ├┤ X ├┤ H ├─░─┤ H ├┤ X ├┤ H ├─░─┤ H ├┤ X ├┤ H ├┤ X ├┤ H ├»\n",
       "«     └───┘ ░ └───┘└───┘└───┘ ░ └───┘└───┘└───┘ ░ └───┘└───┘└───┘└───┘└───┘»\n",
       "«q_4: ──────░─────────────────░─────────────────░──────────────────────────»\n",
       "«           ░                 ░                 ░                          »\n",
       "«q_5: ──────░─────────────────░─────────────────░──────────────────────────»\n",
       "«           ░                 ░                 ░                          »\n",
       "«q_6: ──────░─────────────────░─────────────────░──────────────────────────»\n",
       "«           ░                 ░                 ░                          »\n",
       "«q_7: ──────░─────────────────░─────────────────░──────────────────────────»\n",
       "«           ░                 ░                 ░                          »\n",
       "«q_8: ──────░─────────────────░─────────────────░──────────────────────────»\n",
       "«           ░                 ░                 ░                          »\n",
       "«c: 9/═════════════════════════════════════════════════════════════════════»\n",
       "«                                                                          »\n",
       "«     ┌───┐      ░ \n",
       "«q_0: ┤ H ├──────░─\n",
       "«     ├───┤      ░ \n",
       "«q_1: ┤ H ├──────░─\n",
       "«     ├───┤      ░ \n",
       "«q_2: ┤ H ├──────░─\n",
       "«     ├───┤┌───┐ ░ \n",
       "«q_3: ┤ X ├┤ H ├─░─\n",
       "«     └───┘└───┘ ░ \n",
       "«q_4: ───────────░─\n",
       "«                ░ \n",
       "«q_5: ───────────░─\n",
       "«                ░ \n",
       "«q_6: ───────────░─\n",
       "«                ░ \n",
       "«q_7: ───────────░─\n",
       "«                ░ \n",
       "«q_8: ───────────░─\n",
       "«                ░ \n",
       "«c: 9/═════════════\n",
       "«                  </pre>"
      ],
      "text/plain": [
       "     ┌───┐ ░ ┌───┐     ┌───┐ ░                 ░ ┌───┐┌───┐          ┌───┐┌───┐»\n",
       "q_0: ┤ H ├─░─┤ X ├──■──┤ X ├─░────────■────────░─┤ H ├┤ X ├───────■──┤ X ├┤ H ├»\n",
       "     ├───┤ ░ ├───┤  │  ├───┤ ░ ┌───┐  │  ┌───┐ ░ ├───┤├───┤       │  ├───┤├───┤»\n",
       "q_1: ┤ H ├─░─┤ X ├──■──┤ X ├─░─┤ X ├──■──┤ X ├─░─┤ H ├┤ X ├───────■──┤ X ├┤ H ├»\n",
       "     ├───┤ ░ └───┘  │  └───┘ ░ ├───┤  │  ├───┤ ░ ├───┤├───┤       │  ├───┤├───┤»\n",
       "q_2: ┤ H ├─░────────■────────░─┤ X ├──■──┤ X ├─░─┤ H ├┤ X ├───────■──┤ X ├┤ H ├»\n",
       "     ├───┤ ░ ┌───┐┌─┴─┐┌───┐ ░ ├───┤┌─┴─┐├───┤ ░ ├───┤├───┤┌───┐┌─┴─┐├───┤├───┤»\n",
       "q_3: ┤ H ├─░─┤ H ├┤ X ├┤ H ├─░─┤ H ├┤ X ├┤ H ├─░─┤ H ├┤ X ├┤ H ├┤ X ├┤ H ├┤ X ├»\n",
       "     └───┘ ░ └───┘└───┘└───┘ ░ └───┘└───┘└───┘ ░ └───┘└───┘└───┘└───┘└───┘└───┘»\n",
       "q_4: ──────░─────────────────░─────────────────░───────────────────────────────»\n",
       "     ┌───┐ ░                 ░                 ░                               »\n",
       "q_5: ┤ X ├─░─────────────────░─────────────────░───────────────────────────────»\n",
       "     └───┘ ░                 ░                 ░                               »\n",
       "q_6: ──────░─────────────────░─────────────────░───────────────────────────────»\n",
       "     ┌───┐ ░                 ░                 ░                               »\n",
       "q_7: ┤ X ├─░─────────────────░─────────────────░───────────────────────────────»\n",
       "     └───┘ ░                 ░                 ░                               »\n",
       "q_8: ──────░─────────────────░─────────────────░───────────────────────────────»\n",
       "           ░                 ░                 ░                               »\n",
       "c: 9/══════════════════════════════════════════════════════════════════════════»\n",
       "                                                                               »\n",
       "«           ░ ┌───┐     ┌───┐ ░                 ░ ┌───┐┌───┐          ┌───┐»\n",
       "«q_0: ──────░─┤ X ├──■──┤ X ├─░────────■────────░─┤ H ├┤ X ├───────■──┤ X ├»\n",
       "«           ░ ├───┤  │  ├───┤ ░ ┌───┐  │  ┌───┐ ░ ├───┤├───┤       │  ├───┤»\n",
       "«q_1: ──────░─┤ X ├──■──┤ X ├─░─┤ X ├──■──┤ X ├─░─┤ H ├┤ X ├───────■──┤ X ├»\n",
       "«           ░ └───┘  │  └───┘ ░ ├───┤  │  ├───┤ ░ ├───┤├───┤       │  ├───┤»\n",
       "«q_2: ──────░────────■────────░─┤ X ├──■──┤ X ├─░─┤ H ├┤ X ├───────■──┤ X ├»\n",
       "«     ┌───┐ ░ ┌───┐┌─┴─┐┌───┐ ░ ├───┤┌─┴─┐├───┤ ░ ├───┤├───┤┌───┐┌─┴─┐├───┤»\n",
       "«q_3: ┤ H ├─░─┤ H ├┤ X ├┤ H ├─░─┤ H ├┤ X ├┤ H ├─░─┤ H ├┤ X ├┤ H ├┤ X ├┤ H ├»\n",
       "«     └───┘ ░ └───┘└───┘└───┘ ░ └───┘└───┘└───┘ ░ └───┘└───┘└───┘└───┘└───┘»\n",
       "«q_4: ──────░─────────────────░─────────────────░──────────────────────────»\n",
       "«           ░                 ░                 ░                          »\n",
       "«q_5: ──────░─────────────────░─────────────────░──────────────────────────»\n",
       "«           ░                 ░                 ░                          »\n",
       "«q_6: ──────░─────────────────░─────────────────░──────────────────────────»\n",
       "«           ░                 ░                 ░                          »\n",
       "«q_7: ──────░─────────────────░─────────────────░──────────────────────────»\n",
       "«           ░                 ░                 ░                          »\n",
       "«q_8: ──────░─────────────────░─────────────────░──────────────────────────»\n",
       "«           ░                 ░                 ░                          »\n",
       "«c: 9/═════════════════════════════════════════════════════════════════════»\n",
       "«                                                                          »\n",
       "«     ┌───┐      ░ \n",
       "«q_0: ┤ H ├──────░─\n",
       "«     ├───┤      ░ \n",
       "«q_1: ┤ H ├──────░─\n",
       "«     ├───┤      ░ \n",
       "«q_2: ┤ H ├──────░─\n",
       "«     ├───┤┌───┐ ░ \n",
       "«q_3: ┤ X ├┤ H ├─░─\n",
       "«     └───┘└───┘ ░ \n",
       "«q_4: ───────────░─\n",
       "«                ░ \n",
       "«q_5: ───────────░─\n",
       "«                ░ \n",
       "«q_6: ───────────░─\n",
       "«                ░ \n",
       "«q_7: ───────────░─\n",
       "«                ░ \n",
       "«q_8: ───────────░─\n",
       "«                ░ \n",
       "«c: 9/═════════════\n",
       "«                  "
      ]
     },
     "execution_count": 5,
     "metadata": {},
     "output_type": "execute_result"
    }
   ],
   "source": [
    "add_phase_1100(qc)\n",
    "add_phase_1001(qc)\n",
    "second_reflection(qc)\n",
    "qc.draw()"
   ]
  },
  {
   "cell_type": "code",
   "execution_count": 6,
   "id": "e0f6a3bc-8819-4293-9d2c-1c7393f8922e",
   "metadata": {},
   "outputs": [
    {
     "data": {
      "image/png": "[encoded data removed]",
      "text/plain": [
       "<Figure size 504x360 with 1 Axes>"
      ]
     },
     "execution_count": 6,
     "metadata": {},
     "output_type": "execute_result"
    }
   ],
   "source": [
    "sim = Aer.get_backend(\"aer_simulator\")\n",
    "qc.measure_all()\n",
    "job = execute(qc, sim, shots = 1024)\n",
    "counts = job.result().get_counts()\n",
    "plot_histogram(counts)"
   ]
  }
 ],
 "metadata": {
  "kernelspec": {
   "display_name": "Python 3 (ipykernel)",
   "language": "python",
   "name": "python3"
  },
  "language_info": {
   "codemirror_mode": {
    "name": "ipython",
    "version": 3
   },
   "file_extension": ".py",
   "mimetype": "text/x-python",
   "name": "python",
   "nbconvert_exporter": "python",
   "pygments_lexer": "ipython3",
   "version": "3.9.7"
  },
  "widgets": {
   "application/vnd.jupyter.widget-state+json": {
    "state": {
     "02081ad6602d42d4b02c646df02b3554": {
      "model_module": "@jupyter-widgets/base",
      "model_module_version": "1.2.0",
      "model_name": "LayoutModel",
      "state": {
       "margin": "0px 0px 0px 37px",
       "width": "600px"
      }
     },
     "034fdaaae5cd4d4cb756d2268d525d81": {
      "model_module": "@jupyter-widgets/controls",
      "model_module_version": "1.5.0",
      "model_name": "DescriptionStyleModel",
      "state": {
       "description_width": ""
      }
     },
     "118a9487ce224b968dbc499ac6b17ca0": {
      "model_module": "@jupyter-widgets/base",
      "model_module_version": "1.2.0",
      "model_name": "LayoutModel",
      "state": {
       "width": "95px"
      }
     },
     "135319eb8fc648fa9d78e353b11b46a6": {
      "model_module": "@jupyter-widgets/controls",
      "model_module_version": "1.5.0",
      "model_name": "HTMLModel",
      "state": {
       "layout": "IPY_MODEL_c1d510ed93584ba381bcbfa785695f97",
       "style": "IPY_MODEL_034fdaaae5cd4d4cb756d2268d525d81",
       "value": "<p style='font-family: IBM Plex Sans, Arial, Helvetica, sans-serif; font-size: 20px; font-weight: medium;'>Circuit Properties</p>"
      }
     },
     "13a092655d874ce791c6da7d93277d51": {
      "model_module": "@jupyter-widgets/controls",
      "model_module_version": "1.5.0",
      "model_name": "HTMLModel",
      "state": {
       "layout": "IPY_MODEL_305764b5be0246c3b182691166ed9ed0",
       "style": "IPY_MODEL_1c0f210fa0f84225967fe7ee85a6a1f7",
       "value": "<h5>Message</h5>"
      }
     },
     "144b39d85315412ea5d18f7112ae45bc": {
      "model_module": "@jupyter-widgets/controls",
      "model_module_version": "1.5.0",
      "model_name": "HTMLModel",
      "state": {
       "layout": "IPY_MODEL_118a9487ce224b968dbc499ac6b17ca0",
       "style": "IPY_MODEL_c3369814cade40279e25ea195b78618e",
       "value": "<h5>Status</h5>"
      }
     },
     "16895cd57a9248498a587ef0df8df331": {
      "model_module": "@jupyter-widgets/controls",
      "model_module_version": "1.5.0",
      "model_name": "DescriptionStyleModel",
      "state": {
       "description_width": ""
      }
     },
     "1c0f210fa0f84225967fe7ee85a6a1f7": {
      "model_module": "@jupyter-widgets/controls",
      "model_module_version": "1.5.0",
      "model_name": "DescriptionStyleModel",
      "state": {
       "description_width": ""
      }
     },
     "2a769e2ae7894d3aa894ef5c95915e85": {
      "model_module": "@jupyter-widgets/controls",
      "model_module_version": "1.5.0",
      "model_name": "HTMLModel",
      "state": {
       "layout": "IPY_MODEL_744c9ab36c954475b672b1c7d7a71632",
       "style": "IPY_MODEL_16895cd57a9248498a587ef0df8df331",
       "value": "<h5>Queue</h5>"
      }
     },
     "2b32aacc766d47df8cbf4fc6562a0eeb": {
      "model_module": "@jupyter-widgets/controls",
      "model_module_version": "1.5.0",
      "model_name": "DescriptionStyleModel",
      "state": {
       "description_width": ""
      }
     },
     "305764b5be0246c3b182691166ed9ed0": {
      "model_module": "@jupyter-widgets/base",
      "model_module_version": "1.2.0",
      "model_name": "LayoutModel",
      "state": {}
     },
     "5912be877c02477bbd6ac59417d6c41b": {
      "model_module": "@jupyter-widgets/controls",
      "model_module_version": "1.5.0",
      "model_name": "HTMLModel",
      "state": {
       "layout": "IPY_MODEL_970c4962f34942248e422095469e63c3",
       "style": "IPY_MODEL_6e7cc98d22424a0685b655c77842a397",
       "value": "<h5>Backend</h5>"
      }
     },
     "6ba22273015e4ae7bb64b83582641e62": {
      "model_module": "@jupyter-widgets/controls",
      "model_module_version": "1.5.0",
      "model_name": "ButtonStyleModel",
      "state": {}
     },
     "6e7cc98d22424a0685b655c77842a397": {
      "model_module": "@jupyter-widgets/controls",
      "model_module_version": "1.5.0",
      "model_name": "DescriptionStyleModel",
      "state": {
       "description_width": ""
      }
     },
     "6ec0dedab7f94d44a296e73dfbbcf0cc": {
      "model_module": "@jupyter-widgets/controls",
      "model_module_version": "1.5.0",
      "model_name": "HTMLModel",
      "state": {
       "layout": "IPY_MODEL_a7d856abc2404c53a604e380caf11fe4",
       "style": "IPY_MODEL_2b32aacc766d47df8cbf4fc6562a0eeb",
       "value": "<h5>Job ID</h5>"
      }
     },
     "744c9ab36c954475b672b1c7d7a71632": {
      "model_module": "@jupyter-widgets/base",
      "model_module_version": "1.2.0",
      "model_name": "LayoutModel",
      "state": {
       "width": "70px"
      }
     },
     "970c4962f34942248e422095469e63c3": {
      "model_module": "@jupyter-widgets/base",
      "model_module_version": "1.2.0",
      "model_name": "LayoutModel",
      "state": {
       "width": "145px"
      }
     },
     "a05db4caea6c4c4dab594353b35ff4af": {
      "model_module": "@jupyter-widgets/controls",
      "model_module_version": "1.5.0",
      "model_name": "ButtonModel",
      "state": {
       "button_style": "primary",
       "description": "Clear",
       "layout": "IPY_MODEL_fe43a445f7f449e29233e0cff244a8c1",
       "style": "IPY_MODEL_6ba22273015e4ae7bb64b83582641e62"
      }
     },
     "a7d856abc2404c53a604e380caf11fe4": {
      "model_module": "@jupyter-widgets/base",
      "model_module_version": "1.2.0",
      "model_name": "LayoutModel",
      "state": {
       "width": "190px"
      }
     },
     "aeb99cfd9a26448d8447f892a969438b": {
      "model_module": "@jupyter-widgets/controls",
      "model_module_version": "1.5.0",
      "model_name": "GridBoxModel",
      "state": {
       "children": [
        "IPY_MODEL_a05db4caea6c4c4dab594353b35ff4af"
       ],
       "layout": "IPY_MODEL_ded43316def249bc855c8c8d4ece9453"
      }
     },
     "c1d510ed93584ba381bcbfa785695f97": {
      "model_module": "@jupyter-widgets/base",
      "model_module_version": "1.2.0",
      "model_name": "LayoutModel",
      "state": {
       "margin": "0px 0px 10px 0px"
      }
     },
     "c3369814cade40279e25ea195b78618e": {
      "model_module": "@jupyter-widgets/controls",
      "model_module_version": "1.5.0",
      "model_name": "DescriptionStyleModel",
      "state": {
       "description_width": ""
      }
     },
     "ded43316def249bc855c8c8d4ece9453": {
      "model_module": "@jupyter-widgets/base",
      "model_module_version": "1.2.0",
      "model_name": "LayoutModel",
      "state": {
       "grid_template_areas": "\n                                       \". . . . right \"\n                                        ",
       "grid_template_columns": "20% 20% 20% 20% 20%",
       "width": "100%"
      }
     },
     "ef09592730fc4b7c98af60e503c4703c": {
      "model_module": "@jupyter-widgets/controls",
      "model_module_version": "1.5.0",
      "model_name": "HBoxModel",
      "state": {
       "children": [
        "IPY_MODEL_6ec0dedab7f94d44a296e73dfbbcf0cc",
        "IPY_MODEL_5912be877c02477bbd6ac59417d6c41b",
        "IPY_MODEL_144b39d85315412ea5d18f7112ae45bc",
        "IPY_MODEL_2a769e2ae7894d3aa894ef5c95915e85",
        "IPY_MODEL_13a092655d874ce791c6da7d93277d51"
       ],
       "layout": "IPY_MODEL_02081ad6602d42d4b02c646df02b3554"
      }
     },
     "fe43a445f7f449e29233e0cff244a8c1": {
      "model_module": "@jupyter-widgets/base",
      "model_module_version": "1.2.0",
      "model_name": "LayoutModel",
      "state": {
       "grid_area": "right",
       "padding": "0px 0px 0px 0px",
       "width": "70px"
      }
     }
    },
    "version_major": 2,
    "version_minor": 0
   }
  }
 },
 "nbformat": 4,
 "nbformat_minor": 5
}
